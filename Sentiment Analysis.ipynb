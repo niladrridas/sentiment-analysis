{
 "cells": [
  {
   "cell_type": "code",
   "execution_count": null,
   "id": "b260a270",
   "metadata": {},
   "outputs": [
    {
     "name": "stdout",
     "output_type": "stream",
     "text": [
      "Train Data:\n",
      "                                                   0\n",
      "0  __label__2 Stuning even for the non-gamer: Thi...\n",
      "1  __label__2 The best soundtrack ever to anythin...\n",
      "2  __label__2 Amazing!: This soundtrack is my fav...\n",
      "3  __label__2 Excellent Soundtrack: I truly like ...\n",
      "4  __label__2 Remember, Pull Your Jaw Off The Flo...\n",
      "\n",
      "Test Data:\n",
      "                                                   0\n",
      "0  __label__2 Great CD: My lovely Pat has one of ...\n",
      "1  __label__2 One of the best game music soundtra...\n",
      "2  __label__1 Batteries died within a year ...: I...\n",
      "3  __label__2 works fine, but Maha Energy is bett...\n",
      "4  __label__2 Great for the non-audiophile: Revie...\n"
     ]
    }
   ],
   "source": [
    "# Step 1: Import libraries\n",
    "from sklearn.model_selection import train_test_split\n",
    "from sklearn.feature_extraction.text import CountVectorizer\n",
    "from sklearn.naive_bayes import MultinomialNB\n",
    "from sklearn.metrics import accuracy_score\n",
    "import pandas as pd\n",
    "\n",
    "# Step 2: Load dataset\n",
    "train_data_path = \"/Users/dr.niladridas/desktop/test/Amazon_customer_reviews/train.ft.txt\"\n",
    "test_data_path = \"/Users/dr.niladridas/desktop/test/Amazon_customer_reviews/test.ft.txt\"\n",
    "\n",
    "# Load train data\n",
    "train_df = pd.read_csv(train_data_path, header=None, delimiter='\\t')\n",
    "\n",
    "# Load test data\n",
    "test_df = pd.read_csv(test_data_path, header=None, delimiter='\\t')\n",
    "\n",
    "# Display the first few rows of the train DataFrame\n",
    "print(\"Train Data:\")\n",
    "print(train_df.head())\n",
    "\n",
    "# Display the first few rows of the test DataFrame\n",
    "print(\"\\nTest Data:\")\n",
    "print(test_df.head())\n",
    "\n",
    "# Step 3: Preprocess text data (e.g., remove punctuation, lowercase)\n",
    "# Assuming labels are part of the text data and need to be extracted\n",
    "train_df[0] = train_df[0].apply(lambda x: x.lower())\n",
    "test_df[0] = test_df[0].apply(lambda x: x.lower())\n",
    "\n",
    "# Extract labels from text data\n",
    "train_df['label'] = train_df[0].apply(lambda x: x.split()[0])\n",
    "test_df['label'] = test_df[0].apply(lambda x: x.split()[0])\n",
    "\n",
    "# Remove labels from text data\n",
    "train_df[0] = train_df[0].apply(lambda x: ' '.join(x.split()[1:]))\n",
    "test_df[0] = test_df[0].apply(lambda x: ' '.join(x.split()[1:]))\n",
    "\n",
    "# Step 4: Split data into train and test sets\n",
    "X_train, X_test, y_train, y_test = train_test_split(train_df[0], train_df['label'], test_size=0.2, random_state=42)\n",
    "\n",
    "# Step 5: Vectorize text data using Bag-of-Words\n",
    "vectorizer = CountVectorizer()\n",
    "X_train_vect = vectorizer.fit_transform(X_train)\n",
    "X_test_vect = vectorizer.transform(X_test)\n",
    "\n",
    "# Step 6: Train Naive Bayes classifier\n",
    "classifier = MultinomialNB()\n",
    "classifier.fit(X_train_vect, y_train)\n",
    "\n",
    "# Step 7: Predict sentiment on test set and evaluate model\n",
    "y_pred = classifier.predict(X_test_vect)\n",
    "accuracy = accuracy_score(y_test, y_pred)\n",
    "print(\"\\nAccuracy:\", accuracy)"
   ]
  }
 ],
 "metadata": {
  "kernelspec": {
   "display_name": "Python 3 (ipykernel)",
   "language": "python",
   "name": "python3"
  },
  "language_info": {
   "codemirror_mode": {
    "name": "ipython",
    "version": 3
   },
   "file_extension": ".py",
   "mimetype": "text/x-python",
   "name": "python",
   "nbconvert_exporter": "python",
   "pygments_lexer": "ipython3",
   "version": "3.11.5"
  }
 },
 "nbformat": 4,
 "nbformat_minor": 5
}
